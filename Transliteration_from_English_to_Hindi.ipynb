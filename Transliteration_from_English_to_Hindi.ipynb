{
  "nbformat": 4,
  "nbformat_minor": 0,
  "metadata": {
    "colab": {
      "name": "Transliteration from English to Hindi.ipynb",
      "provenance": []
    },
    "kernelspec": {
      "name": "python3",
      "display_name": "Python 3"
    },
    "accelerator": "GPU"
  },
  "cells": [
    {
      "cell_type": "code",
      "metadata": {
        "id": "_LISOLZYufiV"
      },
      "source": [
        "import torch\r\n",
        "import torch.nn as nn\r\n",
        "import torch.optim as optim\r\n",
        "from torch.autograd import Variable\r\n",
        "import torch.nn.functional as F\r\n",
        "import numpy as np\r\n",
        "\r\n",
        "# Instantiates the device to be used as GPU/CPU based on availability\r\n",
        "device_gpu = torch.device(\"cuda:0\" if torch.cuda.is_available() else \"cpu\")\r\n",
        "\r\n",
        "# Visualization tools\r\n",
        "import matplotlib.pyplot as plt\r\n",
        "import seaborn as sns\r\n",
        "from IPython.display import clear_output\r\n",
        "\r\n",
        "import random"
      ],
      "execution_count": null,
      "outputs": []
    },
    {
      "cell_type": "code",
      "metadata": {
        "id": "yDFykta4G7dU"
      },
      "source": [
        "import re\r\n",
        "non_eng_letters_regex = re.compile('[^a-zA-Z ]')\r\n",
        "\r\n",
        "# Remove all English non-letters\r\n",
        "def cleanEnglishVocab(line):\r\n",
        "    line = line.replace('-', ' ').replace(',', ' ').upper()\r\n",
        "    line = non_eng_letters_regex.sub('', line)\r\n",
        "    return line.split()\r\n",
        "\r\n",
        "# Remove all Hindi non-letters\r\n",
        "def cleanHindiVocab(line):\r\n",
        "    line = line.replace('-', ' ').replace(',', ' ')\r\n",
        "    cleaned_line = ''\r\n",
        "    for char in line:\r\n",
        "        if char in hindi_alpha2index or char == ' ':\r\n",
        "            cleaned_line += char\r\n",
        "    return cleaned_line.split()"
      ],
      "execution_count": null,
      "outputs": []
    },
    {
      "cell_type": "code",
      "metadata": {
        "id": "dhuIGHYcGkPf"
      },
      "source": [
        "from torch.utils.data import Dataset\r\n",
        "import xml.etree.ElementTree as ET\r\n",
        "\r\n",
        "class TransliterationDataLoader(Dataset):\r\n",
        "    def __init__(self, filename):\r\n",
        "        self.eng_words, self.hindi_words = self.readXmlDataset(filename, cleanHindiVocab)\r\n",
        "        self.shuffle_indices = list(range(len(self.eng_words)))\r\n",
        "        random.shuffle(self.shuffle_indices)\r\n",
        "        self.shuffle_start_index = 0\r\n",
        "        \r\n",
        "    def __len__(self):\r\n",
        "        return len(self.eng_words)\r\n",
        "    \r\n",
        "    def __getitem__(self, idx):\r\n",
        "        return self.eng_words[idx], self.hindi_words[idx]\r\n",
        "    \r\n",
        "    def readXmlDataset(self, filename, lang_vocab_cleaner):\r\n",
        "        transliterationCorpus = ET.parse(filename).getroot()\r\n",
        "        lang1_words = []\r\n",
        "        lang2_words = []\r\n",
        "\r\n",
        "        for line in transliterationCorpus:\r\n",
        "            wordlist1 = cleanEnglishVocab(line[0].text)\r\n",
        "            wordlist2 = lang_vocab_cleaner(line[1].text)\r\n",
        "\r\n",
        "            # Skip noisy data\r\n",
        "            if len(wordlist1) != len(wordlist2):\r\n",
        "                print('Skipping: ', line[0].text, ' - ', line[1].text)\r\n",
        "                continue\r\n",
        "\r\n",
        "            for word in wordlist1:\r\n",
        "                lang1_words.append(word)\r\n",
        "            for word in wordlist2:\r\n",
        "                lang2_words.append(word)\r\n",
        "\r\n",
        "        return lang1_words, lang2_words\r\n",
        "    \r\n",
        "    def get_random_sample(self):\r\n",
        "        return self.__getitem__(np.random.randint(len(self.eng_words)))\r\n",
        "    \r\n",
        "    def get_batch_from_array(self, batch_size, array):\r\n",
        "        end = self.shuffle_start_index + batch_size\r\n",
        "        batch = []\r\n",
        "        if end >= len(self.eng_words):\r\n",
        "            batch = [array[i] for i in self.shuffle_indices[0:end%len(self.eng_words)]]\r\n",
        "            end = len(self.eng_words)\r\n",
        "        return batch + [array[i] for i in self.shuffle_indices[self.shuffle_start_index : end]]\r\n",
        "    \r\n",
        "    def get_batch(self, batch_size, postprocess = True):\r\n",
        "        eng_batch = self.get_batch_from_array(batch_size, self.eng_words)\r\n",
        "        hindi_batch = self.get_batch_from_array(batch_size, self.hindi_words)\r\n",
        "        self.shuffle_start_index += batch_size + 1\r\n",
        "        \r\n",
        "        # Reshuffle if 1 epoch is complete\r\n",
        "        if self.shuffle_start_index >= len(self.eng_words):\r\n",
        "            random.shuffle(self.shuffle_indices)\r\n",
        "            self.shuffle_start_index = 0\r\n",
        "            \r\n",
        "        return eng_batch, hindi_batch"
      ],
      "execution_count": null,
      "outputs": []
    },
    {
      "cell_type": "code",
      "metadata": {
        "id": "Np7pML_KGmPQ"
      },
      "source": [
        "test_data = TransliterationDataLoader('NEWS2012-Testing-EnHi-1000.xml')"
      ],
      "execution_count": null,
      "outputs": []
    },
    {
      "cell_type": "code",
      "metadata": {
        "colab": {
          "base_uri": "https://localhost:8080/"
        },
        "id": "qJeVeW9Tu5An",
        "outputId": "2936876f-8b92-4b8f-c3c6-87720bb827ee"
      },
      "source": [
        "eng_alphabets = 'ABCDEFGHIJKLMNOPQRSTUVWXYZ'\r\n",
        "pad_char = '-PAD-'\r\n",
        "\r\n",
        "eng_alpha2index = {pad_char: 0}\r\n",
        "for index, alpha in enumerate(eng_alphabets):\r\n",
        "    eng_alpha2index[alpha] = index+1\r\n",
        "\r\n",
        "#print(eng_alpha2index)\r\n",
        "\r\n",
        "hindi_alphabets = [chr(alpha) for alpha in range(2304, 2432)]\r\n",
        "hindi_alphabet_size = len(hindi_alphabets)\r\n",
        "\r\n",
        "hindi_alpha2index = {pad_char: 0}\r\n",
        "for index, alpha in enumerate(hindi_alphabets):\r\n",
        "    hindi_alpha2index[alpha] = index+1\r\n",
        "\r\n",
        "print(hindi_alpha2index)"
      ],
      "execution_count": null,
      "outputs": [
        {
          "output_type": "stream",
          "text": [
            "{'-PAD-': 0, 'ऀ': 1, 'ँ': 2, 'ं': 3, 'ः': 4, 'ऄ': 5, 'अ': 6, 'आ': 7, 'इ': 8, 'ई': 9, 'उ': 10, 'ऊ': 11, 'ऋ': 12, 'ऌ': 13, 'ऍ': 14, 'ऎ': 15, 'ए': 16, 'ऐ': 17, 'ऑ': 18, 'ऒ': 19, 'ओ': 20, 'औ': 21, 'क': 22, 'ख': 23, 'ग': 24, 'घ': 25, 'ङ': 26, 'च': 27, 'छ': 28, 'ज': 29, 'झ': 30, 'ञ': 31, 'ट': 32, 'ठ': 33, 'ड': 34, 'ढ': 35, 'ण': 36, 'त': 37, 'थ': 38, 'द': 39, 'ध': 40, 'न': 41, 'ऩ': 42, 'प': 43, 'फ': 44, 'ब': 45, 'भ': 46, 'म': 47, 'य': 48, 'र': 49, 'ऱ': 50, 'ल': 51, 'ळ': 52, 'ऴ': 53, 'व': 54, 'श': 55, 'ष': 56, 'स': 57, 'ह': 58, 'ऺ': 59, 'ऻ': 60, '़': 61, 'ऽ': 62, 'ा': 63, 'ि': 64, 'ी': 65, 'ु': 66, 'ू': 67, 'ृ': 68, 'ॄ': 69, 'ॅ': 70, 'ॆ': 71, 'े': 72, 'ै': 73, 'ॉ': 74, 'ॊ': 75, 'ो': 76, 'ौ': 77, '्': 78, 'ॎ': 79, 'ॏ': 80, 'ॐ': 81, '॑': 82, '॒': 83, '॓': 84, '॔': 85, 'ॕ': 86, 'ॖ': 87, 'ॗ': 88, 'क़': 89, 'ख़': 90, 'ग़': 91, 'ज़': 92, 'ड़': 93, 'ढ़': 94, 'फ़': 95, 'य़': 96, 'ॠ': 97, 'ॡ': 98, 'ॢ': 99, 'ॣ': 100, '।': 101, '॥': 102, '०': 103, '१': 104, '२': 105, '३': 106, '४': 107, '५': 108, '६': 109, '७': 110, '८': 111, '९': 112, '॰': 113, 'ॱ': 114, 'ॲ': 115, 'ॳ': 116, 'ॴ': 117, 'ॵ': 118, 'ॶ': 119, 'ॷ': 120, 'ॸ': 121, 'ॹ': 122, 'ॺ': 123, 'ॻ': 124, 'ॼ': 125, 'ॽ': 126, 'ॾ': 127, 'ॿ': 128}\n"
          ],
          "name": "stdout"
        }
      ]
    },
    {
      "cell_type": "code",
      "metadata": {
        "id": "JE3at5C7Sy5F"
      },
      "source": [
        "def word_rep(word, letter2index, device = 'cpu'):\n",
        "    rep = torch.zeros(len(word)+1, 1, len(letter2index)).to(device)\n",
        "    for letter_index, letter in enumerate(word):\n",
        "        pos = letter2index[letter]\n",
        "        rep[letter_index][0][pos] = 1\n",
        "    pad_pos = letter2index[pad_char]\n",
        "    rep[letter_index+1][0][pad_pos] = 1\n",
        "    return rep\n",
        "\n",
        "def gt_rep(word, letter2index, device = 'cpu'):\n",
        "    gt_rep = torch.zeros([len(word)+1, 1], dtype=torch.long).to(device)\n",
        "    for letter_index, letter in enumerate(word):\n",
        "        pos = letter2index[letter]\n",
        "        gt_rep[letter_index][0] = pos\n",
        "    gt_rep[letter_index+1][0] = letter2index[pad_char]\n",
        "    return gt_rep"
      ],
      "execution_count": null,
      "outputs": []
    },
    {
      "cell_type": "code",
      "metadata": {
        "colab": {
          "base_uri": "https://localhost:8080/",
          "height": 195
        },
        "id": "e7xvzlwuG_Jv",
        "outputId": "5f27a17e-a073-4121-fc71-ff31ddc6b383"
      },
      "source": [
        "eng, hindi = test_data.get_random_sample()\r\n",
        "eng_rep = word_rep(eng, eng_alpha2index)\r\n",
        "print(eng, eng_rep)"
      ],
      "execution_count": null,
      "outputs": [
        {
          "output_type": "error",
          "ename": "NameError",
          "evalue": "ignored",
          "traceback": [
            "\u001b[0;31m---------------------------------------------------------------------------\u001b[0m",
            "\u001b[0;31mNameError\u001b[0m                                 Traceback (most recent call last)",
            "\u001b[0;32m<ipython-input-6-ce9f1bdb8731>\u001b[0m in \u001b[0;36m<module>\u001b[0;34m()\u001b[0m\n\u001b[0;32m----> 1\u001b[0;31m \u001b[0meng\u001b[0m\u001b[0;34m,\u001b[0m \u001b[0mhindi\u001b[0m \u001b[0;34m=\u001b[0m \u001b[0mtest_data\u001b[0m\u001b[0;34m.\u001b[0m\u001b[0mget_random_sample\u001b[0m\u001b[0;34m(\u001b[0m\u001b[0;34m)\u001b[0m\u001b[0;34m\u001b[0m\u001b[0;34m\u001b[0m\u001b[0m\n\u001b[0m\u001b[1;32m      2\u001b[0m \u001b[0meng_rep\u001b[0m \u001b[0;34m=\u001b[0m \u001b[0mword_rep\u001b[0m\u001b[0;34m(\u001b[0m\u001b[0meng\u001b[0m\u001b[0;34m,\u001b[0m \u001b[0meng_alpha2index\u001b[0m\u001b[0;34m)\u001b[0m\u001b[0;34m\u001b[0m\u001b[0;34m\u001b[0m\u001b[0m\n\u001b[1;32m      3\u001b[0m \u001b[0mprint\u001b[0m\u001b[0;34m(\u001b[0m\u001b[0meng\u001b[0m\u001b[0;34m,\u001b[0m \u001b[0meng_rep\u001b[0m\u001b[0;34m)\u001b[0m\u001b[0;34m\u001b[0m\u001b[0;34m\u001b[0m\u001b[0m\n",
            "\u001b[0;31mNameError\u001b[0m: name 'test_data' is not defined"
          ]
        }
      ]
    },
    {
      "cell_type": "code",
      "metadata": {
        "colab": {
          "base_uri": "https://localhost:8080/"
        },
        "id": "zJuRQfKuHL58",
        "outputId": "44d1c3ff-5b89-432b-df42-2a786b6d2b2d"
      },
      "source": [
        "hindi_gt = gt_rep(hindi, hindi_alpha2index)\r\n",
        "print(hindi, hindi_gt)"
      ],
      "execution_count": null,
      "outputs": [
        {
          "output_type": "stream",
          "text": [
            "वल्लार tensor([[54],\n",
            "        [51],\n",
            "        [78],\n",
            "        [51],\n",
            "        [63],\n",
            "        [49],\n",
            "        [ 0]])\n"
          ],
          "name": "stdout"
        }
      ]
    },
    {
      "cell_type": "code",
      "metadata": {
        "id": "aH32hzRkumaI"
      },
      "source": [
        "MAX_OUTPUT_CHARS = 30\r\n",
        "class Transliteration_EncoderDecoder(nn.Module):\r\n",
        "    \r\n",
        "    def __init__(self, input_size, hidden_size, output_size, verbose=False):\r\n",
        "        super(Transliteration_EncoderDecoder, self).__init__()\r\n",
        "        \r\n",
        "        self.hidden_size = hidden_size\r\n",
        "        self.output_size = output_size\r\n",
        "        \r\n",
        "        self.encoder_rnn_cell = nn.GRU(input_size, hidden_size)\r\n",
        "        self.decoder_rnn_cell = nn.GRU(output_size, hidden_size)\r\n",
        "        \r\n",
        "        self.h2o = nn.Linear(hidden_size, output_size)\r\n",
        "        self.softmax = nn.LogSoftmax(dim=2)\r\n",
        "        \r\n",
        "        self.verbose = verbose\r\n",
        "        \r\n",
        "    def forward(self, input, max_output_chars, device = 'cpu', ground_truth = None):\r\n",
        "        \r\n",
        "        # encoder\r\n",
        "        out, hidden = self.encoder_rnn_cell(input)\r\n",
        "        \r\n",
        "        if self.verbose:\r\n",
        "            print('Encoder input', input.shape)\r\n",
        "            print('Encoder output', out.shape)\r\n",
        "            print('Encoder hidden', hidden.shape)\r\n",
        "        \r\n",
        "        # decoder\r\n",
        "        decoder_state = hidden\r\n",
        "        decoder_input = torch.zeros(1, 1, self.output_size).to(device)\r\n",
        "        outputs = []\r\n",
        "        \r\n",
        "        if self.verbose:\r\n",
        "            print('Decoder state', decoder_state.shape)\r\n",
        "            print('Decoder input', decoder_input.shape)\r\n",
        "            \r\n",
        "        for i in range(max_output_chars):\r\n",
        "          \r\n",
        "            out, decoder_state = self.decoder_rnn_cell(decoder_input, decoder_state)\r\n",
        "            \r\n",
        "            if self.verbose:\r\n",
        "                print('Decoder intermediate output', out.shape)\r\n",
        "            \r\n",
        "            out = self.h2o(decoder_state)\r\n",
        "            out = self.softmax(out)\r\n",
        "            outputs.append(out.view(1, -1))\r\n",
        "            \r\n",
        "            if self.verbose:\r\n",
        "                print('Decoder output', out.shape)\r\n",
        "                self.verbose = False\r\n",
        "            \r\n",
        "            max_idx = torch.argmax(out, 2, keepdim=True)\r\n",
        "            if not ground_truth is None:\r\n",
        "                max_idx = ground_truth[i].reshape(1, 1, 1)\r\n",
        "            one_hot = torch.FloatTensor(out.shape).to(device)\r\n",
        "            one_hot.zero_()\r\n",
        "            one_hot.scatter_(2, max_idx, 1)\r\n",
        "            \r\n",
        "            decoder_input = one_hot.detach()\r\n",
        "            \r\n",
        "        return outputs"
      ],
      "execution_count": null,
      "outputs": []
    },
    {
      "cell_type": "code",
      "metadata": {
        "colab": {
          "base_uri": "https://localhost:8080/"
        },
        "id": "J5Vgob3LGaVc",
        "outputId": "d64999ee-074d-4b4e-8bf8-3414f4ed4ecb"
      },
      "source": [
        "net = Transliteration_EncoderDecoder(len(eng_alpha2index), 256, len(hindi_alpha2index), verbose=True)\r\n",
        "net.load_state_dict(torch.load(\"SimpleEncoderDecoder.pt\"))"
      ],
      "execution_count": null,
      "outputs": [
        {
          "output_type": "execute_result",
          "data": {
            "text/plain": [
              "<All keys matched successfully>"
            ]
          },
          "metadata": {
            "tags": []
          },
          "execution_count": 8
        }
      ]
    },
    {
      "cell_type": "code",
      "metadata": {
        "colab": {
          "base_uri": "https://localhost:8080/",
          "height": 162
        },
        "id": "lKtXrdtXH1FN",
        "outputId": "8350c4df-9184-4a93-9b39-0eb48e2a8ffd"
      },
      "source": [
        "out = net.forward(eng_rep, 30)"
      ],
      "execution_count": null,
      "outputs": [
        {
          "output_type": "error",
          "ename": "NameError",
          "evalue": "ignored",
          "traceback": [
            "\u001b[0;31m---------------------------------------------------------------------------\u001b[0m",
            "\u001b[0;31mNameError\u001b[0m                                 Traceback (most recent call last)",
            "\u001b[0;32m<ipython-input-9-d8f3b3d8f36d>\u001b[0m in \u001b[0;36m<module>\u001b[0;34m()\u001b[0m\n\u001b[0;32m----> 1\u001b[0;31m \u001b[0mout\u001b[0m \u001b[0;34m=\u001b[0m \u001b[0mnet\u001b[0m\u001b[0;34m.\u001b[0m\u001b[0mforward\u001b[0m\u001b[0;34m(\u001b[0m\u001b[0meng_rep\u001b[0m\u001b[0;34m,\u001b[0m \u001b[0;36m30\u001b[0m\u001b[0;34m)\u001b[0m\u001b[0;34m\u001b[0m\u001b[0;34m\u001b[0m\u001b[0m\n\u001b[0m",
            "\u001b[0;31mNameError\u001b[0m: name 'eng_rep' is not defined"
          ]
        }
      ]
    },
    {
      "cell_type": "code",
      "metadata": {
        "colab": {
          "base_uri": "https://localhost:8080/",
          "height": 229
        },
        "id": "-6d7fOxUIVzw",
        "outputId": "33b4dc9d-9667-45e7-d2fd-6133567369c3"
      },
      "source": [
        "print(len(out))\r\n",
        "op_string_ar = \"\"\r\n",
        "for i in range(len(out)):\r\n",
        "    l = list(hindi_alpha2index.keys())[list(hindi_alpha2index.values()).index(torch.argmax(out[i]))]\r\n",
        "    if l != \"-PAD-\":\r\n",
        "      op_string_ar+=l"
      ],
      "execution_count": null,
      "outputs": [
        {
          "output_type": "error",
          "ename": "NameError",
          "evalue": "ignored",
          "traceback": [
            "\u001b[0;31m---------------------------------------------------------------------------\u001b[0m",
            "\u001b[0;31mNameError\u001b[0m                                 Traceback (most recent call last)",
            "\u001b[0;32m<ipython-input-10-f4cb4df873ba>\u001b[0m in \u001b[0;36m<module>\u001b[0;34m()\u001b[0m\n\u001b[0;32m----> 1\u001b[0;31m \u001b[0mprint\u001b[0m\u001b[0;34m(\u001b[0m\u001b[0mlen\u001b[0m\u001b[0;34m(\u001b[0m\u001b[0mout\u001b[0m\u001b[0;34m)\u001b[0m\u001b[0;34m)\u001b[0m\u001b[0;34m\u001b[0m\u001b[0;34m\u001b[0m\u001b[0m\n\u001b[0m\u001b[1;32m      2\u001b[0m \u001b[0mop_string_ar\u001b[0m \u001b[0;34m=\u001b[0m \u001b[0;34m\"\"\u001b[0m\u001b[0;34m\u001b[0m\u001b[0;34m\u001b[0m\u001b[0m\n\u001b[1;32m      3\u001b[0m \u001b[0;32mfor\u001b[0m \u001b[0mi\u001b[0m \u001b[0;32min\u001b[0m \u001b[0mrange\u001b[0m\u001b[0;34m(\u001b[0m\u001b[0mlen\u001b[0m\u001b[0;34m(\u001b[0m\u001b[0mout\u001b[0m\u001b[0;34m)\u001b[0m\u001b[0;34m)\u001b[0m\u001b[0;34m:\u001b[0m\u001b[0;34m\u001b[0m\u001b[0;34m\u001b[0m\u001b[0m\n\u001b[1;32m      4\u001b[0m     \u001b[0ml\u001b[0m \u001b[0;34m=\u001b[0m \u001b[0mlist\u001b[0m\u001b[0;34m(\u001b[0m\u001b[0mhindi_alpha2index\u001b[0m\u001b[0;34m.\u001b[0m\u001b[0mkeys\u001b[0m\u001b[0;34m(\u001b[0m\u001b[0;34m)\u001b[0m\u001b[0;34m)\u001b[0m\u001b[0;34m[\u001b[0m\u001b[0mlist\u001b[0m\u001b[0;34m(\u001b[0m\u001b[0mhindi_alpha2index\u001b[0m\u001b[0;34m.\u001b[0m\u001b[0mvalues\u001b[0m\u001b[0;34m(\u001b[0m\u001b[0;34m)\u001b[0m\u001b[0;34m)\u001b[0m\u001b[0;34m.\u001b[0m\u001b[0mindex\u001b[0m\u001b[0;34m(\u001b[0m\u001b[0mtorch\u001b[0m\u001b[0;34m.\u001b[0m\u001b[0margmax\u001b[0m\u001b[0;34m(\u001b[0m\u001b[0mout\u001b[0m\u001b[0;34m[\u001b[0m\u001b[0mi\u001b[0m\u001b[0;34m]\u001b[0m\u001b[0;34m)\u001b[0m\u001b[0;34m)\u001b[0m\u001b[0;34m]\u001b[0m\u001b[0;34m\u001b[0m\u001b[0;34m\u001b[0m\u001b[0m\n\u001b[1;32m      5\u001b[0m     \u001b[0;32mif\u001b[0m \u001b[0ml\u001b[0m \u001b[0;34m!=\u001b[0m \u001b[0;34m\"-PAD-\"\u001b[0m\u001b[0;34m:\u001b[0m\u001b[0;34m\u001b[0m\u001b[0;34m\u001b[0m\u001b[0m\n",
            "\u001b[0;31mNameError\u001b[0m: name 'out' is not defined"
          ]
        }
      ]
    },
    {
      "cell_type": "code",
      "metadata": {
        "colab": {
          "base_uri": "https://localhost:8080/"
        },
        "id": "kcB_9hhyIYV8",
        "outputId": "0bd9aac6-38d3-4d1b-c88f-8e96d08c0367"
      },
      "source": [
        "print(op_string_ar)"
      ],
      "execution_count": null,
      "outputs": [
        {
          "output_type": "stream",
          "text": [
            "वललार\n"
          ],
          "name": "stdout"
        }
      ]
    },
    {
      "cell_type": "code",
      "metadata": {
        "colab": {
          "base_uri": "https://localhost:8080/"
        },
        "id": "UZbRjVOPJS0n",
        "outputId": "45bfcf7b-2d67-46b9-ff39-346ee8d974ca"
      },
      "source": [
        "eng = \"RANDI\"\r\n",
        "test_eng_rep = word_rep(eng, eng_alpha2index)\r\n",
        "print(eng, test_eng_rep)"
      ],
      "execution_count": null,
      "outputs": [
        {
          "output_type": "stream",
          "text": [
            "MANOJ tensor([[[0., 0., 0., 0., 0., 0., 0., 0., 0., 0., 0., 0., 0., 1., 0., 0., 0.,\n",
            "          0., 0., 0., 0., 0., 0., 0., 0., 0., 0.]],\n",
            "\n",
            "        [[0., 1., 0., 0., 0., 0., 0., 0., 0., 0., 0., 0., 0., 0., 0., 0., 0.,\n",
            "          0., 0., 0., 0., 0., 0., 0., 0., 0., 0.]],\n",
            "\n",
            "        [[0., 0., 0., 0., 0., 0., 0., 0., 0., 0., 0., 0., 0., 0., 1., 0., 0.,\n",
            "          0., 0., 0., 0., 0., 0., 0., 0., 0., 0.]],\n",
            "\n",
            "        [[0., 0., 0., 0., 0., 0., 0., 0., 0., 0., 0., 0., 0., 0., 0., 1., 0.,\n",
            "          0., 0., 0., 0., 0., 0., 0., 0., 0., 0.]],\n",
            "\n",
            "        [[0., 0., 0., 0., 0., 0., 0., 0., 0., 0., 1., 0., 0., 0., 0., 0., 0.,\n",
            "          0., 0., 0., 0., 0., 0., 0., 0., 0., 0.]],\n",
            "\n",
            "        [[1., 0., 0., 0., 0., 0., 0., 0., 0., 0., 0., 0., 0., 0., 0., 0., 0.,\n",
            "          0., 0., 0., 0., 0., 0., 0., 0., 0., 0.]]])\n"
          ],
          "name": "stdout"
        }
      ]
    },
    {
      "cell_type": "code",
      "metadata": {
        "id": "j1qZCM9SKwiE"
      },
      "source": [
        "out = net.forward(test_eng_rep, 30)"
      ],
      "execution_count": null,
      "outputs": []
    },
    {
      "cell_type": "code",
      "metadata": {
        "colab": {
          "base_uri": "https://localhost:8080/"
        },
        "id": "Jp565tb0K_cM",
        "outputId": "037810f2-5f56-4ea4-fca0-eaa0ced13ac1"
      },
      "source": [
        "print(len(out))\r\n",
        "op_string_ar = \"\"\r\n",
        "for i in range(len(out)):\r\n",
        "    l = list(hindi_alpha2index.keys())[list(hindi_alpha2index.values()).index(torch.argmax(out[i]))]\r\n",
        "    if l != \"-PAD-\":\r\n",
        "      op_string_ar+=l"
      ],
      "execution_count": null,
      "outputs": [
        {
          "output_type": "stream",
          "text": [
            "30\n"
          ],
          "name": "stdout"
        }
      ]
    },
    {
      "cell_type": "code",
      "metadata": {
        "colab": {
          "base_uri": "https://localhost:8080/"
        },
        "id": "GjH7Tbm6LDnm",
        "outputId": "09d72b7c-eeb6-46c7-fe4a-68be80ba8fc5"
      },
      "source": [
        "print(op_string_ar)"
      ],
      "execution_count": null,
      "outputs": [
        {
          "output_type": "stream",
          "text": [
            "मनूज\n"
          ],
          "name": "stdout"
        }
      ]
    },
    {
      "cell_type": "code",
      "metadata": {
        "id": "EwxtEMg9LGUh"
      },
      "source": [
        ""
      ],
      "execution_count": null,
      "outputs": []
    }
  ]
}